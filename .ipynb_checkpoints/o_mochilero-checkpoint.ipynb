{
 "cells": [
  {
   "cell_type": "code",
   "execution_count": 1,
   "metadata": {},
   "outputs": [],
   "source": [
    "def knapSack(C, peso, valor, nome, n):\n",
    "    K = [[0 for c in range(C + 1)]\n",
    "            for i in range(n + 1)]\n",
    "             \n",
    "    # contruindo matriz\n",
    "    for i in range(n + 1):\n",
    "        for c in range(C + 1):\n",
    "            if i == 0 or c == 0:\n",
    "                K[i][c] = 0\n",
    "            elif peso[i - 1] <= c:\n",
    "                K[i][c] = max(valor[i - 1]\n",
    "                  + K[i - 1][c - peso[i - 1]],\n",
    "                               K[i - 1][c])\n",
    "            else:\n",
    "                K[i][c] = K[i - 1][c]\n",
    " \n",
    "    # armazena o valor da mochila\n",
    "    res = K[n][C]\n",
    "    print(res)\n",
    "     \n",
    "    c = C\n",
    "    \n",
    "    for i in range(n, 0, -1):\n",
    "        if res <= 0:\n",
    "            break\n",
    "        # ou o resultado vem da parte superior da matriz (K [i-1] [w]) \n",
    "        # ou de (val [i-1] + K [i-1] [w-wt [i-1]]) como na mochila tabela. \n",
    "        # Se vier deste último um / significa que o item está incluído.\n",
    "        \n",
    "        if res == K[i - 1][c]:\n",
    "            continue\n",
    "        else:\n",
    " \n",
    "            # Mostra item da mochila\n",
    "            print(nome[i - 1])\n",
    "            \n",
    "            res = res - valor[i - 1]\n",
    "            c = c - peso[i - 1]\n",
    " \n"
   ]
  },
  {
   "cell_type": "code",
   "execution_count": 2,
   "metadata": {},
   "outputs": [
    {
     "name": "stdout",
     "output_type": "stream",
     "text": [
      "Capacidade da Mochila:  50\n",
      "\n",
      "nome do item: chinelo\n",
      "valor do item: 60\n",
      "peso do item: 10\n",
      "\n",
      "Para adicionar mais um item digite 's'\n",
      "s\n",
      "\n",
      "nome do item: computador\n",
      "valor do item: 100\n",
      "peso do item: 20\n",
      "\n",
      "Para adicionar mais um item digite 's'\n",
      "s\n",
      "\n",
      "nome do item: relogio\n",
      "valor do item: 120\n",
      "peso do item: 30\n",
      "\n",
      "Para adicionar mais um item digite 's'\n",
      "n\n",
      "\n"
     ]
    }
   ],
   "source": [
    "valor = list()\n",
    "peso = list()\n",
    "nome = list()\n",
    "\n",
    "C = int(input(\"Capacidade da Mochila:  \"))\n",
    "print()\n",
    "\n",
    "continuar = True\n",
    "while continuar:\n",
    "    aux1 = input(\"nome do item: \")\n",
    "    aux2 = int(input(\"valor do item: \"))\n",
    "    aux3 = int(input(\"peso do item: \"))\n",
    "    \n",
    "    nome.append(aux1)\n",
    "    valor.append(aux2)\n",
    "    peso.append(aux3)\n",
    "    \n",
    "    print()\n",
    "    print(\"Para adicionar mais um item digite 's'\")\n",
    "    if input() == \"s\":\n",
    "        continuar = True\n",
    "    else: \n",
    "        continuar = False\n",
    "    print()"
   ]
  },
  {
   "cell_type": "code",
   "execution_count": 3,
   "metadata": {},
   "outputs": [
    {
     "name": "stdout",
     "output_type": "stream",
     "text": [
      "220\n",
      "relogio\n",
      "computador\n"
     ]
    }
   ],
   "source": [
    "knapSack(C, peso, valor, nome, len(valor))"
   ]
  }
 ],
 "metadata": {
  "kernelspec": {
   "display_name": "Python 3",
   "language": "python",
   "name": "python3"
  },
  "language_info": {
   "codemirror_mode": {
    "name": "ipython",
    "version": 3
   },
   "file_extension": ".py",
   "mimetype": "text/x-python",
   "name": "python",
   "nbconvert_exporter": "python",
   "pygments_lexer": "ipython3",
   "version": "3.8.5"
  }
 },
 "nbformat": 4,
 "nbformat_minor": 4
}
