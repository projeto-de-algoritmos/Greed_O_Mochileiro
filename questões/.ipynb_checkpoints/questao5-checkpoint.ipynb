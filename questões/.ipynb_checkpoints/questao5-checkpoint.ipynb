{
 "cells": [
  {
   "cell_type": "code",
   "execution_count": 1,
   "metadata": {},
   "outputs": [],
   "source": [
    "\"\"\"\" \n",
    "Vamos representar por c a casa mais a esquerda da rua e então colocar a estação \n",
    "há 4 milhas de c. depois removemos todas as casas que são cobertas por esta estação\n",
    "e então repetimos o processo.\n",
    "\"\"\"\n",
    "\n",
    "def estacoes(casas):\n",
    "    estacao = list()\n",
    "    casas = sorted(casas)\n",
    "    aux = casas.copy()\n",
    "    \n",
    "    while(casas):\n",
    "        c = casas[0]\n",
    "        estacao.append(c+4)\n",
    "\n",
    "        for casa in casas:\n",
    "            if abs(casa - estacao[-1]) <= 4:\n",
    "                aux.pop(0)\n",
    "                \n",
    "            else:\n",
    "                break\n",
    "                \n",
    "        casas = aux.copy()\n",
    "        \n",
    "    return estacao"
   ]
  },
  {
   "cell_type": "code",
   "execution_count": 2,
   "metadata": {},
   "outputs": [
    {
     "name": "stdout",
     "output_type": "stream",
     "text": [
      "posição das estações: [4, 13, 23, 32]\n"
     ]
    }
   ],
   "source": [
    "# incluido na lista 'casas' posição das casas da rua\n",
    "casas = [0, 12, 4, 8, 7, 5, 3, 9, 19, 2, 31, 24, 25, 28, 14]\n",
    "estacoes_lista = estacoes(casas)\n",
    "\n",
    "print(f'posição das estações: {estacoes_lista}')"
   ]
  }
 ],
 "metadata": {
  "kernelspec": {
   "display_name": "Python 3",
   "language": "python",
   "name": "python3"
  },
  "language_info": {
   "codemirror_mode": {
    "name": "ipython",
    "version": 3
   },
   "file_extension": ".py",
   "mimetype": "text/x-python",
   "name": "python",
   "nbconvert_exporter": "python",
   "pygments_lexer": "ipython3",
   "version": "3.8.5"
  }
 },
 "nbformat": 4,
 "nbformat_minor": 4
}
