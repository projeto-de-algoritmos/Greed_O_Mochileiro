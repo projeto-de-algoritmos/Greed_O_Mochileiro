{
 "cells": [
  {
   "cell_type": "code",
   "execution_count": 62,
   "metadata": {},
   "outputs": [],
   "source": [
    "class Trabalho:\n",
    "    def __init__(self, tempo, peso, nome):\n",
    "        self.tempo = tempo\n",
    "        self.peso = peso\n",
    "        self.nome = nome"
   ]
  },
  {
   "cell_type": "code",
   "execution_count": 74,
   "metadata": {},
   "outputs": [],
   "source": [
    "def minimizing_lateness(trabalhos):\n",
    "    trabalhos = sorted(trabalhos, reverse=True,key=lambda Trabalho: Trabalho.peso)\n",
    "    \n",
    "    tempo_total = 0\n",
    "    peso_total = 0\n",
    "    agendamento = list()\n",
    "    \n",
    "    for trabalho in trabalhos:\n",
    "        tempo_total += trabalho.tempo\n",
    "        peso_total += tempo_total*trabalho.peso\n",
    "        agendamento.append(trabalho)\n",
    "    \n",
    "    \n",
    "    print(f'O peso mínimo é: {peso_total}')\n",
    "    print()\n",
    "    print(f'A ordem de agendamento é:')\n",
    "    for trabalho in agendamento:\n",
    "        print(f'nome: {trabalho.nome} peso:{trabalho.peso} tempo:{trabalho.tempo}')    "
   ]
  },
  {
   "cell_type": "code",
   "execution_count": 75,
   "metadata": {},
   "outputs": [
    {
     "name": "stdout",
     "output_type": "stream",
     "text": [
      "O peso mínimo é: 18\n",
      "\n",
      "A ordem de agendamento é:\n",
      "nome: João peso:10 tempo:1\n",
      "nome: Paula peso:2 tempo:3\n"
     ]
    }
   ],
   "source": [
    "trabalhos = list()\n",
    "trabalhos.append(Trabalho(1, 10, \"João\"))\n",
    "trabalhos.append(Trabalho(3, 2, \"Paula\"))\n",
    "\n",
    "minimizing_lateness(trabalhos)\n"
   ]
  }
 ],
 "metadata": {
  "interpreter": {
   "hash": "4b06fee73b86b53dac33cd4c02d8b266a3b19da478888b682f80afbedb7be4ff"
  },
  "kernelspec": {
   "display_name": "Python 3",
   "language": "python",
   "name": "python3"
  },
  "language_info": {
   "codemirror_mode": {
    "name": "ipython",
    "version": 3
   },
   "file_extension": ".py",
   "mimetype": "text/x-python",
   "name": "python",
   "nbconvert_exporter": "python",
   "pygments_lexer": "ipython3",
   "version": "3.8.5"
  }
 },
 "nbformat": 4,
 "nbformat_minor": 4
}
